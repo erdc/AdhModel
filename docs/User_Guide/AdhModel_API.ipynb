{
 "cells": [
  {
   "cell_type": "markdown",
   "metadata": {},
   "source": [
    "### AdhModel API\n",
    "The following is quickstart guide to the available methods on the AdhModel object"
   ]
  },
  {
   "cell_type": "code",
   "execution_count": null,
   "metadata": {},
   "outputs": [],
   "source": [
    "import os\n",
    "from adhmodel import AdhModel\n",
    "\n",
    "# set the test directory\n",
    "test_dir = os.path.join(os.path.dirname(os.path.dirname(os.getcwd())), 'tests')"
   ]
  },
  {
   "cell_type": "markdown",
   "metadata": {},
   "source": [
    "---\n",
    "---\n",
    "### Reading a suite of model simulation files (input and output) from netcdf"
   ]
  },
  {
   "cell_type": "code",
   "execution_count": null,
   "metadata": {},
   "outputs": [],
   "source": [
    "# set test project name\n",
    "project_name = 'SanDiego'\n",
    "# set project directory\n",
    "path = os.path.join(test_dir, 'test_files', project_name)\n",
    "# instantiate empty adh model object\n",
    "adhmod = AdhModel()\n",
    "# read model files\n",
    "adhmod.from_netcdf(path=path, project_name=project_name, crs=None)\n",
    "adhmod.pprint()"
   ]
  },
  {
   "cell_type": "markdown",
   "metadata": {},
   "source": [
    "---\n",
    "---\n",
    "### Reading individual files"
   ]
  },
  {
   "cell_type": "markdown",
   "metadata": {},
   "source": [
    "---\n",
    "Read mesh file"
   ]
  },
  {
   "cell_type": "code",
   "execution_count": null,
   "metadata": {},
   "outputs": [],
   "source": [
    "# set test project name\n",
    "project_name = 'SanDiego'\n",
    "# set project directory\n",
    "path = os.path.join(test_dir, 'test_files', project_name)\n",
    "# instantiate empty adh model object\n",
    "adhmod = AdhModel()\n",
    "# read the mesh file\n",
    "adhmod.read_mesh(path=path, project_name=project_name, crs=None, fmt='nc')\n",
    "# display the data\n",
    "print(adhmod.mesh.name)\n",
    "print(adhmod.mesh.verts.head())\n",
    "print(adhmod.mesh.tris.head())\n",
    "print(adhmod.mesh.projection.get_crs().proj4_params)"
   ]
  },
  {
   "cell_type": "markdown",
   "metadata": {},
   "source": [
    "---\n",
    "Read hotstart file"
   ]
  },
  {
   "cell_type": "code",
   "execution_count": null,
   "metadata": {},
   "outputs": [],
   "source": [
    "# set test project name\n",
    "project_name = 'SanDiego'\n",
    "# set project directory\n",
    "path = os.path.join(test_dir, 'test_files', project_name, f'{project_name}.nc')\n",
    "# instantiate empty adh model object\n",
    "adhmod = AdhModel()\n",
    "# read the mesh file\n",
    "adhmod.read_hotstart(path=path, fmt='nc')\n",
    "# display the data\n",
    "adhmod.simulation.hotstart"
   ]
  },
  {
   "cell_type": "markdown",
   "metadata": {},
   "source": [
    "---\n",
    "Read boundary condition file"
   ]
  },
  {
   "cell_type": "code",
   "execution_count": null,
   "metadata": {},
   "outputs": [],
   "source": [
    "# set test project name\n",
    "project_name = 'SanDiego'\n",
    "# set project directory\n",
    "path = os.path.join(test_dir, 'test_files', project_name, f'{project_name}.bc')\n",
    "# instantiate empty adh model object\n",
    "adhmod = AdhModel()\n",
    "# read the mesh file\n",
    "adhmod.read_bc(file_name=path, fmt='bc')\n",
    "# display the data\n",
    "adhmod.simulation.boundary_conditions"
   ]
  },
  {
   "cell_type": "markdown",
   "metadata": {},
   "source": [
    "---\n",
    "Read results"
   ]
  },
  {
   "cell_type": "code",
   "execution_count": null,
   "metadata": {},
   "outputs": [],
   "source": [
    "# set test project name\n",
    "project_name = 'SanDiego'\n",
    "# set project directory\n",
    "path = os.path.join(test_dir, 'test_files', project_name, f'{project_name}.nc')\n",
    "# instantiate empty adh model object\n",
    "adhmod = AdhModel()\n",
    "# read the mesh file\n",
    "adhmod.read_results(path=path, fmt='nc')\n",
    "# display the data\n",
    "adhmod.simulation.results"
   ]
  },
  {
   "cell_type": "markdown",
   "metadata": {},
   "source": [
    "------\n",
    "Other methods on AdhModel that are not yet documented:  \n",
    "    - read  \n",
    "    - write  \n",
    "    - from_ascii  \n",
    "    - write_mesh  \n",
    "    - write_bc  \n",
    "    - write_hotstart  \n",
    "    - write_results  \n",
    "    - read_result  \n",
    "    - write_result  \n",
    "    - validate  "
   ]
  }
 ],
 "metadata": {
  "kernelspec": {
   "display_name": "Python 3",
   "language": "python",
   "name": "python3"
  },
  "language_info": {
   "codemirror_mode": {
    "name": "ipython",
    "version": 3
   },
   "file_extension": ".py",
   "mimetype": "text/x-python",
   "name": "python",
   "nbconvert_exporter": "python",
   "pygments_lexer": "ipython3",
   "version": "3.6.7"
  }
 },
 "nbformat": 4,
 "nbformat_minor": 4
}
